{
 "cells": [
  {
   "cell_type": "markdown",
   "metadata": {},
   "source": [
    "# NASA Patents"
   ]
  },
  {
   "cell_type": "code",
   "execution_count": 1,
   "metadata": {},
   "outputs": [],
   "source": [
    "%matplotlib inline\n",
    "import pandas as pd\n",
    "import numpy as np\n",
    "import matplotlib.pyplot as plt\n",
    "import seaborn as sns"
   ]
  },
  {
   "cell_type": "code",
   "execution_count": 2,
   "metadata": {},
   "outputs": [
    {
     "data": {
      "text/html": [
       "<div>\n",
       "<style scoped>\n",
       "    .dataframe tbody tr th:only-of-type {\n",
       "        vertical-align: middle;\n",
       "    }\n",
       "\n",
       "    .dataframe tbody tr th {\n",
       "        vertical-align: top;\n",
       "    }\n",
       "\n",
       "    .dataframe thead th {\n",
       "        text-align: right;\n",
       "    }\n",
       "</style>\n",
       "<table border=\"1\" class=\"dataframe\">\n",
       "  <thead>\n",
       "    <tr style=\"text-align: right;\">\n",
       "      <th></th>\n",
       "      <th>Center</th>\n",
       "      <th>Status</th>\n",
       "      <th>Case Number</th>\n",
       "      <th>Patent Number</th>\n",
       "      <th>Application SN</th>\n",
       "      <th>Title</th>\n",
       "      <th>Patent Expiration Date</th>\n",
       "    </tr>\n",
       "  </thead>\n",
       "  <tbody>\n",
       "    <tr>\n",
       "      <th>0</th>\n",
       "      <td>NASA Kennedy Space Center</td>\n",
       "      <td>Application</td>\n",
       "      <td>KSC-12871</td>\n",
       "      <td>0</td>\n",
       "      <td>13/033,085</td>\n",
       "      <td>Polyimide Wire Insulation Repair System</td>\n",
       "      <td>NaN</td>\n",
       "    </tr>\n",
       "    <tr>\n",
       "      <th>1</th>\n",
       "      <td>NASA Ames Research Center</td>\n",
       "      <td>Issued</td>\n",
       "      <td>ARC-14048-1</td>\n",
       "      <td>5694939</td>\n",
       "      <td>08/543,093</td>\n",
       "      <td>Autogenic-Feedback Training Exercise Method &amp; ...</td>\n",
       "      <td>10/03/2015</td>\n",
       "    </tr>\n",
       "    <tr>\n",
       "      <th>2</th>\n",
       "      <td>NASA Ames Research Center</td>\n",
       "      <td>Issued</td>\n",
       "      <td>ARC-14231-1</td>\n",
       "      <td>6109270</td>\n",
       "      <td>09/017,519</td>\n",
       "      <td>Multimodality Instrument For Tissue Characteri...</td>\n",
       "      <td>02/04/2017</td>\n",
       "    </tr>\n",
       "    <tr>\n",
       "      <th>3</th>\n",
       "      <td>NASA Ames Research Center</td>\n",
       "      <td>Issued</td>\n",
       "      <td>ARC-14231-2DIV</td>\n",
       "      <td>6976013</td>\n",
       "      <td>10/874,003</td>\n",
       "      <td>Metrics For Body Sensing System</td>\n",
       "      <td>06/16/2024</td>\n",
       "    </tr>\n",
       "    <tr>\n",
       "      <th>4</th>\n",
       "      <td>NASA Ames Research Center</td>\n",
       "      <td>Issued</td>\n",
       "      <td>ARC-14231-3</td>\n",
       "      <td>6718196</td>\n",
       "      <td>09/652,299</td>\n",
       "      <td>Multimodality Instrument For Tissue Characteri...</td>\n",
       "      <td>02/04/2017</td>\n",
       "    </tr>\n",
       "  </tbody>\n",
       "</table>\n",
       "</div>"
      ],
      "text/plain": [
       "                      Center       Status     Case Number Patent Number  \\\n",
       "0  NASA Kennedy Space Center  Application       KSC-12871             0   \n",
       "1  NASA Ames Research Center       Issued     ARC-14048-1       5694939   \n",
       "2  NASA Ames Research Center       Issued     ARC-14231-1       6109270   \n",
       "3  NASA Ames Research Center       Issued  ARC-14231-2DIV       6976013   \n",
       "4  NASA Ames Research Center       Issued     ARC-14231-3       6718196   \n",
       "\n",
       "  Application SN                                              Title  \\\n",
       "0     13/033,085            Polyimide Wire Insulation Repair System   \n",
       "1     08/543,093  Autogenic-Feedback Training Exercise Method & ...   \n",
       "2     09/017,519  Multimodality Instrument For Tissue Characteri...   \n",
       "3     10/874,003                    Metrics For Body Sensing System   \n",
       "4     09/652,299  Multimodality Instrument For Tissue Characteri...   \n",
       "\n",
       "  Patent Expiration Date  \n",
       "0                    NaN  \n",
       "1             10/03/2015  \n",
       "2             02/04/2017  \n",
       "3             06/16/2024  \n",
       "4             02/04/2017  "
      ]
     },
     "execution_count": 2,
     "metadata": {},
     "output_type": "execute_result"
    }
   ],
   "source": [
    "data = pd.read_csv('Patents.csv')\n",
    "data.head()"
   ]
  },
  {
   "cell_type": "code",
   "execution_count": 3,
   "metadata": {},
   "outputs": [
    {
     "data": {
      "text/plain": [
       "NASA Langley Research Center             349\n",
       "NASA Glenn Research Center               228\n",
       "NASA Goddard Space Flight Center         193\n",
       "NASA Johnson Space Center                183\n",
       "NASA Marshall Space Flight Center        144\n",
       "NASA Ames Research Center                138\n",
       "NASA Kennedy Space Center                 87\n",
       "NASA Jet Propulsion Laboratory            44\n",
       "NASA Armstrong Flight Research Center     21\n",
       "NASA Stennis Space Center                  5\n",
       "NASA Headquarters                          1\n",
       "Name: Center, dtype: int64"
      ]
     },
     "execution_count": 3,
     "metadata": {},
     "output_type": "execute_result"
    }
   ],
   "source": [
    "data.Center.value_counts()"
   ]
  },
  {
   "cell_type": "code",
   "execution_count": 4,
   "metadata": {},
   "outputs": [
    {
     "data": {
      "text/plain": [
       "NASA Langley Research Center             239\n",
       "NASA Goddard Space Flight Center         129\n",
       "NASA Johnson Space Center                128\n",
       "NASA Marshall Space Flight Center        113\n",
       "NASA Glenn Research Center               107\n",
       "NASA Ames Research Center                100\n",
       "NASA Kennedy Space Center                 58\n",
       "NASA Jet Propulsion Laboratory            32\n",
       "NASA Armstrong Flight Research Center     12\n",
       "NASA Stennis Space Center                  5\n",
       "NASA Headquarters                          1\n",
       "Name: Center, dtype: int64"
      ]
     },
     "execution_count": 4,
     "metadata": {},
     "output_type": "execute_result"
    }
   ],
   "source": [
    "data.Center[data.Status == 'Issued'].value_counts()"
   ]
  },
  {
   "cell_type": "code",
   "execution_count": 5,
   "metadata": {},
   "outputs": [
    {
     "data": {
      "text/plain": [
       "NASA Glenn Research Center               121\n",
       "NASA Langley Research Center             110\n",
       "NASA Goddard Space Flight Center          64\n",
       "NASA Johnson Space Center                 54\n",
       "NASA Ames Research Center                 38\n",
       "NASA Marshall Space Flight Center         31\n",
       "NASA Kennedy Space Center                 29\n",
       "NASA Jet Propulsion Laboratory            12\n",
       "NASA Armstrong Flight Research Center      9\n",
       "Name: Center, dtype: int64"
      ]
     },
     "execution_count": 5,
     "metadata": {},
     "output_type": "execute_result"
    }
   ],
   "source": [
    "data.Center[data.Status == 'Application'].value_counts()"
   ]
  },
  {
   "cell_type": "code",
   "execution_count": 6,
   "metadata": {},
   "outputs": [
    {
     "data": {
      "text/plain": [
       "<matplotlib.axes._subplots.AxesSubplot at 0x1fdd06868c8>"
      ]
     },
     "execution_count": 6,
     "metadata": {},
     "output_type": "execute_result"
    },
    {
     "data": {
      "image/png": "[encoded data removed]",
      "text/plain": [
       "<Figure size 720x360 with 1 Axes>"
      ]
     },
     "metadata": {
      "needs_background": "light"
     },
     "output_type": "display_data"
    }
   ],
   "source": [
    "plt.figure(figsize=(10,5))\n",
    "sns.countplot(y=data['Center'], data=data, order = data['Center'].value_counts().index)"
   ]
  },
  {
   "cell_type": "code",
   "execution_count": 7,
   "metadata": {},
   "outputs": [
    {
     "data": {
      "text/plain": [
       "<matplotlib.axes._subplots.AxesSubplot at 0x1fdd0a1af88>"
      ]
     },
     "execution_count": 7,
     "metadata": {},
     "output_type": "execute_result"
    },
    {
     "data": {
      "image/png": "[encoded data removed]",
      "text/plain": [
       "<Figure size 720x360 with 1 Axes>"
      ]
     },
     "metadata": {
      "needs_background": "light"
     },
     "output_type": "display_data"
    }
   ],
   "source": [
    "plt.figure(figsize=(10,5))\n",
    "sns.countplot(y=data['Status'], data=data, order = data['Status'].value_counts().index)"
   ]
  },
  {
   "cell_type": "code",
   "execution_count": 8,
   "metadata": {},
   "outputs": [
    {
     "name": "stdout",
     "output_type": "stream",
     "text": [
      "0      Nonlinear Ultrasonic Scanning To Detect Materi...\n",
      "1      Variable And Fixed Frequency Pulsed Phase-Lock...\n",
      "2      Tough, Soluble, Aromatic, Thermoplastic Copoly...\n",
      "3       Ultrasonic Periodontal Structures Mapping Device\n",
      "4                  Distributed Fiber-optic Strain Sensor\n",
      "                             ...                        \n",
      "234    Method of Making a Composite Panel Having Subs...\n",
      "235               Locomotion of Amorphous Surface Robots\n",
      "236    Crimp Quality Assessment from Jaw Position-Ult...\n",
      "237    Wireless Temperature Sensor Having No Electric...\n",
      "238    Fast Tracking Methods and Systems for Air Traf...\n",
      "Name: Title, Length: 239, dtype: object\n"
     ]
    }
   ],
   "source": [
    "Langley = data.Title[(data.Center=='NASA Langley Research Center') & (data.Status == 'Issued')].reset_index(drop=True)\n",
    "print(Langley)"
   ]
  },
  {
   "cell_type": "code",
   "execution_count": 9,
   "metadata": {},
   "outputs": [
    {
     "name": "stdout",
     "output_type": "stream",
     "text": [
      "0     Autogenic-Feedback Training Exercise Method & ...\n",
      "1     Multimodality Instrument For Tissue Characteri...\n",
      "2                       Metrics For Body Sensing System\n",
      "3     Multimodality Instrument For Tissue Characteri...\n",
      "4     Automated Triangle Geometry Processing For Sur...\n",
      "                            ...                        \n",
      "95    Advanced Sensor Technology for Algal Biotechno...\n",
      "96                            Hovercraft Landing System\n",
      "97    Self Aligning Lug for adapting carbon fiber ro...\n",
      "98        Heart Electrical Actions as Biometric Indicia\n",
      "99    Content Analysis to Detect High Stress in Oral...\n",
      "Name: Title, Length: 100, dtype: object\n"
     ]
    }
   ],
   "source": [
    "Ames = data.Title[(data.Center=='NASA Ames Research Center') & (data.Status == 'Issued')].reset_index(drop=True)\n",
    "print(Ames)"
   ]
  },
  {
   "cell_type": "code",
   "execution_count": 10,
   "metadata": {},
   "outputs": [
    {
     "name": "stdout",
     "output_type": "stream",
     "text": [
      "0      PS300 - Self Lubricating Readily Polished High...\n",
      "1                                      Gas Sensing Diode\n",
      "2      A Real-Time Signal-To-Noise Ratio Estimation T...\n",
      "3      Lean Direct Injection Combustor/Multi Point In...\n",
      "4      Method For Production Of Atomic Scale Step Hei...\n",
      "                             ...                        \n",
      "102    Dual-Mode Hybrid-Engine (DMH-Engine): A Next-G...\n",
      "103    A Source Coupled N Channel JFET Based Digital ...\n",
      "104    Process and Apparatus for Hydrogen and Carbon ...\n",
      "105    Method For Zero Emission Liquid Hydrogen Produ...\n",
      "106    A Novel Wideband GaN MMIC Distributed Amplifie...\n",
      "Name: Title, Length: 107, dtype: object\n"
     ]
    }
   ],
   "source": [
    "Glenn = data.Title[(data.Center=='NASA Glenn Research Center') & (data.Status == 'Issued')].reset_index(drop=True)\n",
    "print(Glenn)"
   ]
  }
 ],
 "metadata": {
  "kernelspec": {
   "display_name": "Python 3",
   "language": "python",
   "name": "python3"
  },
  "language_info": {
   "codemirror_mode": {
    "name": "ipython",
    "version": 3
   },
   "file_extension": ".py",
   "mimetype": "text/x-python",
   "name": "python",
   "nbconvert_exporter": "python",
   "pygments_lexer": "ipython3",
   "version": "3.7.5"
  }
 },
 "nbformat": 4,
 "nbformat_minor": 4
}
